{
 "cells": [
  {
   "cell_type": "code",
   "execution_count": 6,
   "metadata": {},
   "outputs": [],
   "source": [
    "#!/usr/bin/env python\n",
    "import rospy\n",
    "import rospkg\n",
    "import os\n",
    "import sys\n",
    "import cv2\n",
    "import cv_bridge\n",
    "from sensor_msgs.msg import Range, Image"
   ]
  },
  {
   "cell_type": "code",
   "execution_count": 7,
   "metadata": {},
   "outputs": [],
   "source": [
    "def callback(data):\n",
    "    rospy.loginfo('Received %s', data)"
   ]
  },
  {
   "cell_type": "code",
   "execution_count": null,
   "metadata": {},
   "outputs": [],
   "source": [
    "def listener():\n",
    "    rospy.init_node('listener', anonymous=True)\n",
    "    # define self.sub to subscribe to the height (range) of the gripper and invoke the callback method\n",
    "    rospy.Subscriber('/robot/range/right_hand_range/state', Range , callback)\n",
    "    rospy.spin()"
   ]
  },
  {
   "cell_type": "code",
   "execution_count": null,
   "metadata": {},
   "outputs": [],
   "source": [
    "if __name__== '__main__':\n",
    "    listener()"
   ]
  },
  {
   "cell_type": "code",
   "execution_count": null,
   "metadata": {},
   "outputs": [],
   "source": [
    "\n",
    "class RosIntroNode(object):\n",
    "\n",
    "    def __init__(self):\n",
    "        '''\n",
    "        loads success and blank image\n",
    "        '''\n",
    "\n",
    "        # get filesystem path of current package.\n",
    "        r = rospkg.RosPack()\n",
    "        pkg_path = r.get_path('your_ros_intro')\n",
    "\n",
    "        # load success image\n",
    "        img = cv2.imread(os.path.join(pkg_path, \"images/success.jpg\"))\n",
    "        self.success = cv_bridge.CvBridge().cv2_to_imgmsg(img, encoding=\"bgr8\")\n",
    "\n",
    "        # load blank image\n",
    "        img = cv2.imread(os.path.join(pkg_path, \"images/blank.jpg\"))\n",
    "        self.blank = cv_bridge.CvBridge().cv2_to_imgmsg(img, encoding=\"bgr8\")\n",
    "\n",
    "        # Define a Publisher that publishes the image to the /image topic\n",
    "\n",
    "                       ################## \n",
    "        #self.img_pub = rospy.Publisher('chatter', Image, queue_size=10)\n",
    "\t#img_pub.publish(blank)\n",
    "\t\n",
    "        # init node\n",
    "        rospy.init_node('listener', anonymous=True)\n",
    "        \n",
    "\trospy.Subscriber('chatter', Range, callback)\n",
    "def callback(self, data):\n",
    "                   ##################\n",
    "    rospy.loginfo('Received %s', msg.data)\n",
    "\n",
    "if __name__ == '__main__':\n",
    "    intro_node = RosIntroNode()\n",
    "    rospy.spin()"
   ]
  }
 ],
 "metadata": {
  "kernelspec": {
   "display_name": "Python 3",
   "language": "python",
   "name": "python3"
  },
  "language_info": {
   "codemirror_mode": {
    "name": "ipython",
    "version": 3
   },
   "file_extension": ".py",
   "mimetype": "text/x-python",
   "name": "python",
   "nbconvert_exporter": "python",
   "pygments_lexer": "ipython3",
   "version": "3.7.6"
  }
 },
 "nbformat": 4,
 "nbformat_minor": 4
}
